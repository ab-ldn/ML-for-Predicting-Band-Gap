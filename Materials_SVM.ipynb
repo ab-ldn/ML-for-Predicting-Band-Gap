{
 "cells": [
  {
   "cell_type": "markdown",
   "id": "9467f629",
   "metadata": {},
   "source": [
    "## Support Vector Regression"
   ]
  },
  {
   "cell_type": "code",
   "execution_count": 1,
   "id": "3280902e",
   "metadata": {},
   "outputs": [],
   "source": [
    "import pandas as pd\n",
    "import numpy as np\n",
    "from matminer.featurizers.conversions import StrToComposition\n",
    "from matminer.featurizers.composition import ElementProperty, ElementFraction, Meredig, Stoichiometry\n",
    "from sklearn.model_selection import train_test_split,GridSearchCV,StratifiedKFold,cross_val_score,KFold\n",
    "import matplotlib.pyplot as plt\n",
    "from sklearn.preprocessing import StandardScaler\n",
    "from sklearn.svm import SVR\n",
    "from sklearn.metrics import mean_squared_error, mean_absolute_error"
   ]
  },
  {
   "cell_type": "markdown",
   "id": "473fb40e",
   "metadata": {},
   "source": [
    "## Data Processing"
   ]
  },
  {
   "cell_type": "code",
   "execution_count": 2,
   "id": "f6736806",
   "metadata": {
    "scrolled": true
   },
   "outputs": [
    {
     "data": {
      "text/html": [
       "<div>\n",
       "<style scoped>\n",
       "    .dataframe tbody tr th:only-of-type {\n",
       "        vertical-align: middle;\n",
       "    }\n",
       "\n",
       "    .dataframe tbody tr th {\n",
       "        vertical-align: top;\n",
       "    }\n",
       "\n",
       "    .dataframe thead th {\n",
       "        text-align: right;\n",
       "    }\n",
       "</style>\n",
       "<table border=\"1\" class=\"dataframe\">\n",
       "  <thead>\n",
       "    <tr style=\"text-align: right;\">\n",
       "      <th></th>\n",
       "      <th>MagpieData maximum Number</th>\n",
       "      <th>MagpieData range Number</th>\n",
       "      <th>MagpieData mean Number</th>\n",
       "      <th>MagpieData avg_dev Number</th>\n",
       "      <th>MagpieData mode Number</th>\n",
       "      <th>MagpieData minimum MendeleevNumber</th>\n",
       "      <th>MagpieData maximum MendeleevNumber</th>\n",
       "      <th>MagpieData range MendeleevNumber</th>\n",
       "      <th>MagpieData mean MendeleevNumber</th>\n",
       "      <th>MagpieData avg_dev MendeleevNumber</th>\n",
       "      <th>...</th>\n",
       "      <th>MagpieData range GSmagmom</th>\n",
       "      <th>MagpieData mean GSmagmom</th>\n",
       "      <th>MagpieData avg_dev GSmagmom</th>\n",
       "      <th>MagpieData mode GSmagmom</th>\n",
       "      <th>MagpieData minimum SpaceGroupNumber</th>\n",
       "      <th>MagpieData maximum SpaceGroupNumber</th>\n",
       "      <th>MagpieData range SpaceGroupNumber</th>\n",
       "      <th>MagpieData mean SpaceGroupNumber</th>\n",
       "      <th>MagpieData avg_dev SpaceGroupNumber</th>\n",
       "      <th>MagpieData mode SpaceGroupNumber</th>\n",
       "    </tr>\n",
       "  </thead>\n",
       "  <tbody>\n",
       "    <tr>\n",
       "      <th>0</th>\n",
       "      <td>52.0</td>\n",
       "      <td>29.0</td>\n",
       "      <td>35.333332</td>\n",
       "      <td>11.111111</td>\n",
       "      <td>23.0</td>\n",
       "      <td>46.0</td>\n",
       "      <td>90.0</td>\n",
       "      <td>44.0</td>\n",
       "      <td>70.000000</td>\n",
       "      <td>16.000000</td>\n",
       "      <td>...</td>\n",
       "      <td>0.0</td>\n",
       "      <td>0.0</td>\n",
       "      <td>0.0</td>\n",
       "      <td>0.0</td>\n",
       "      <td>64.0</td>\n",
       "      <td>229.0</td>\n",
       "      <td>165.0</td>\n",
       "      <td>148.33333</td>\n",
       "      <td>56.222220</td>\n",
       "      <td>64.0</td>\n",
       "    </tr>\n",
       "    <tr>\n",
       "      <th>1</th>\n",
       "      <td>31.0</td>\n",
       "      <td>16.0</td>\n",
       "      <td>23.000000</td>\n",
       "      <td>8.000000</td>\n",
       "      <td>15.0</td>\n",
       "      <td>74.0</td>\n",
       "      <td>83.0</td>\n",
       "      <td>9.0</td>\n",
       "      <td>78.500000</td>\n",
       "      <td>4.500000</td>\n",
       "      <td>...</td>\n",
       "      <td>0.0</td>\n",
       "      <td>0.0</td>\n",
       "      <td>0.0</td>\n",
       "      <td>0.0</td>\n",
       "      <td>2.0</td>\n",
       "      <td>64.0</td>\n",
       "      <td>62.0</td>\n",
       "      <td>33.00000</td>\n",
       "      <td>31.000000</td>\n",
       "      <td>2.0</td>\n",
       "    </tr>\n",
       "    <tr>\n",
       "      <th>2</th>\n",
       "      <td>31.0</td>\n",
       "      <td>16.0</td>\n",
       "      <td>23.000000</td>\n",
       "      <td>8.000000</td>\n",
       "      <td>15.0</td>\n",
       "      <td>74.0</td>\n",
       "      <td>83.0</td>\n",
       "      <td>9.0</td>\n",
       "      <td>78.500000</td>\n",
       "      <td>4.500000</td>\n",
       "      <td>...</td>\n",
       "      <td>0.0</td>\n",
       "      <td>0.0</td>\n",
       "      <td>0.0</td>\n",
       "      <td>0.0</td>\n",
       "      <td>2.0</td>\n",
       "      <td>64.0</td>\n",
       "      <td>62.0</td>\n",
       "      <td>33.00000</td>\n",
       "      <td>31.000000</td>\n",
       "      <td>2.0</td>\n",
       "    </tr>\n",
       "    <tr>\n",
       "      <th>3</th>\n",
       "      <td>33.0</td>\n",
       "      <td>2.0</td>\n",
       "      <td>32.000000</td>\n",
       "      <td>1.000000</td>\n",
       "      <td>31.0</td>\n",
       "      <td>74.0</td>\n",
       "      <td>84.0</td>\n",
       "      <td>10.0</td>\n",
       "      <td>79.000000</td>\n",
       "      <td>5.000000</td>\n",
       "      <td>...</td>\n",
       "      <td>0.0</td>\n",
       "      <td>0.0</td>\n",
       "      <td>0.0</td>\n",
       "      <td>0.0</td>\n",
       "      <td>64.0</td>\n",
       "      <td>166.0</td>\n",
       "      <td>102.0</td>\n",
       "      <td>115.00000</td>\n",
       "      <td>51.000000</td>\n",
       "      <td>64.0</td>\n",
       "    </tr>\n",
       "    <tr>\n",
       "      <th>4</th>\n",
       "      <td>31.0</td>\n",
       "      <td>16.0</td>\n",
       "      <td>23.000000</td>\n",
       "      <td>8.000000</td>\n",
       "      <td>15.0</td>\n",
       "      <td>74.0</td>\n",
       "      <td>83.0</td>\n",
       "      <td>9.0</td>\n",
       "      <td>78.500000</td>\n",
       "      <td>4.500000</td>\n",
       "      <td>...</td>\n",
       "      <td>0.0</td>\n",
       "      <td>0.0</td>\n",
       "      <td>0.0</td>\n",
       "      <td>0.0</td>\n",
       "      <td>2.0</td>\n",
       "      <td>64.0</td>\n",
       "      <td>62.0</td>\n",
       "      <td>33.00000</td>\n",
       "      <td>31.000000</td>\n",
       "      <td>2.0</td>\n",
       "    </tr>\n",
       "    <tr>\n",
       "      <th>...</th>\n",
       "      <td>...</td>\n",
       "      <td>...</td>\n",
       "      <td>...</td>\n",
       "      <td>...</td>\n",
       "      <td>...</td>\n",
       "      <td>...</td>\n",
       "      <td>...</td>\n",
       "      <td>...</td>\n",
       "      <td>...</td>\n",
       "      <td>...</td>\n",
       "      <td>...</td>\n",
       "      <td>...</td>\n",
       "      <td>...</td>\n",
       "      <td>...</td>\n",
       "      <td>...</td>\n",
       "      <td>...</td>\n",
       "      <td>...</td>\n",
       "      <td>...</td>\n",
       "      <td>...</td>\n",
       "      <td>...</td>\n",
       "      <td>...</td>\n",
       "    </tr>\n",
       "    <tr>\n",
       "      <th>2526</th>\n",
       "      <td>31.0</td>\n",
       "      <td>16.0</td>\n",
       "      <td>23.000000</td>\n",
       "      <td>8.000000</td>\n",
       "      <td>15.0</td>\n",
       "      <td>74.0</td>\n",
       "      <td>83.0</td>\n",
       "      <td>9.0</td>\n",
       "      <td>78.500000</td>\n",
       "      <td>4.500000</td>\n",
       "      <td>...</td>\n",
       "      <td>0.0</td>\n",
       "      <td>0.0</td>\n",
       "      <td>0.0</td>\n",
       "      <td>0.0</td>\n",
       "      <td>2.0</td>\n",
       "      <td>64.0</td>\n",
       "      <td>62.0</td>\n",
       "      <td>33.00000</td>\n",
       "      <td>31.000000</td>\n",
       "      <td>2.0</td>\n",
       "    </tr>\n",
       "    <tr>\n",
       "      <th>2527</th>\n",
       "      <td>56.0</td>\n",
       "      <td>25.0</td>\n",
       "      <td>40.666668</td>\n",
       "      <td>10.222222</td>\n",
       "      <td>31.0</td>\n",
       "      <td>9.0</td>\n",
       "      <td>95.0</td>\n",
       "      <td>86.0</td>\n",
       "      <td>59.333332</td>\n",
       "      <td>33.555557</td>\n",
       "      <td>...</td>\n",
       "      <td>0.0</td>\n",
       "      <td>0.0</td>\n",
       "      <td>0.0</td>\n",
       "      <td>0.0</td>\n",
       "      <td>64.0</td>\n",
       "      <td>229.0</td>\n",
       "      <td>165.0</td>\n",
       "      <td>119.00000</td>\n",
       "      <td>73.333336</td>\n",
       "      <td>64.0</td>\n",
       "    </tr>\n",
       "    <tr>\n",
       "      <th>2528</th>\n",
       "      <td>31.0</td>\n",
       "      <td>16.0</td>\n",
       "      <td>23.000000</td>\n",
       "      <td>8.000000</td>\n",
       "      <td>15.0</td>\n",
       "      <td>74.0</td>\n",
       "      <td>83.0</td>\n",
       "      <td>9.0</td>\n",
       "      <td>78.500000</td>\n",
       "      <td>4.500000</td>\n",
       "      <td>...</td>\n",
       "      <td>0.0</td>\n",
       "      <td>0.0</td>\n",
       "      <td>0.0</td>\n",
       "      <td>0.0</td>\n",
       "      <td>2.0</td>\n",
       "      <td>64.0</td>\n",
       "      <td>62.0</td>\n",
       "      <td>33.00000</td>\n",
       "      <td>31.000000</td>\n",
       "      <td>2.0</td>\n",
       "    </tr>\n",
       "    <tr>\n",
       "      <th>2529</th>\n",
       "      <td>33.0</td>\n",
       "      <td>2.0</td>\n",
       "      <td>32.000000</td>\n",
       "      <td>1.000000</td>\n",
       "      <td>31.0</td>\n",
       "      <td>74.0</td>\n",
       "      <td>84.0</td>\n",
       "      <td>10.0</td>\n",
       "      <td>79.000000</td>\n",
       "      <td>5.000000</td>\n",
       "      <td>...</td>\n",
       "      <td>0.0</td>\n",
       "      <td>0.0</td>\n",
       "      <td>0.0</td>\n",
       "      <td>0.0</td>\n",
       "      <td>64.0</td>\n",
       "      <td>166.0</td>\n",
       "      <td>102.0</td>\n",
       "      <td>115.00000</td>\n",
       "      <td>51.000000</td>\n",
       "      <td>64.0</td>\n",
       "    </tr>\n",
       "    <tr>\n",
       "      <th>2530</th>\n",
       "      <td>31.0</td>\n",
       "      <td>16.0</td>\n",
       "      <td>23.000000</td>\n",
       "      <td>8.000000</td>\n",
       "      <td>15.0</td>\n",
       "      <td>74.0</td>\n",
       "      <td>83.0</td>\n",
       "      <td>9.0</td>\n",
       "      <td>78.500000</td>\n",
       "      <td>4.500000</td>\n",
       "      <td>...</td>\n",
       "      <td>0.0</td>\n",
       "      <td>0.0</td>\n",
       "      <td>0.0</td>\n",
       "      <td>0.0</td>\n",
       "      <td>2.0</td>\n",
       "      <td>64.0</td>\n",
       "      <td>62.0</td>\n",
       "      <td>33.00000</td>\n",
       "      <td>31.000000</td>\n",
       "      <td>2.0</td>\n",
       "    </tr>\n",
       "  </tbody>\n",
       "</table>\n",
       "<p>2531 rows × 131 columns</p>\n",
       "</div>"
      ],
      "text/plain": [
       "      MagpieData maximum Number  MagpieData range Number  \\\n",
       "0                          52.0                     29.0   \n",
       "1                          31.0                     16.0   \n",
       "2                          31.0                     16.0   \n",
       "3                          33.0                      2.0   \n",
       "4                          31.0                     16.0   \n",
       "...                         ...                      ...   \n",
       "2526                       31.0                     16.0   \n",
       "2527                       56.0                     25.0   \n",
       "2528                       31.0                     16.0   \n",
       "2529                       33.0                      2.0   \n",
       "2530                       31.0                     16.0   \n",
       "\n",
       "      MagpieData mean Number  MagpieData avg_dev Number  \\\n",
       "0                  35.333332                  11.111111   \n",
       "1                  23.000000                   8.000000   \n",
       "2                  23.000000                   8.000000   \n",
       "3                  32.000000                   1.000000   \n",
       "4                  23.000000                   8.000000   \n",
       "...                      ...                        ...   \n",
       "2526               23.000000                   8.000000   \n",
       "2527               40.666668                  10.222222   \n",
       "2528               23.000000                   8.000000   \n",
       "2529               32.000000                   1.000000   \n",
       "2530               23.000000                   8.000000   \n",
       "\n",
       "      MagpieData mode Number  MagpieData minimum MendeleevNumber  \\\n",
       "0                       23.0                                46.0   \n",
       "1                       15.0                                74.0   \n",
       "2                       15.0                                74.0   \n",
       "3                       31.0                                74.0   \n",
       "4                       15.0                                74.0   \n",
       "...                      ...                                 ...   \n",
       "2526                    15.0                                74.0   \n",
       "2527                    31.0                                 9.0   \n",
       "2528                    15.0                                74.0   \n",
       "2529                    31.0                                74.0   \n",
       "2530                    15.0                                74.0   \n",
       "\n",
       "      MagpieData maximum MendeleevNumber  MagpieData range MendeleevNumber  \\\n",
       "0                                   90.0                              44.0   \n",
       "1                                   83.0                               9.0   \n",
       "2                                   83.0                               9.0   \n",
       "3                                   84.0                              10.0   \n",
       "4                                   83.0                               9.0   \n",
       "...                                  ...                               ...   \n",
       "2526                                83.0                               9.0   \n",
       "2527                                95.0                              86.0   \n",
       "2528                                83.0                               9.0   \n",
       "2529                                84.0                              10.0   \n",
       "2530                                83.0                               9.0   \n",
       "\n",
       "      MagpieData mean MendeleevNumber  MagpieData avg_dev MendeleevNumber  \\\n",
       "0                           70.000000                           16.000000   \n",
       "1                           78.500000                            4.500000   \n",
       "2                           78.500000                            4.500000   \n",
       "3                           79.000000                            5.000000   \n",
       "4                           78.500000                            4.500000   \n",
       "...                               ...                                 ...   \n",
       "2526                        78.500000                            4.500000   \n",
       "2527                        59.333332                           33.555557   \n",
       "2528                        78.500000                            4.500000   \n",
       "2529                        79.000000                            5.000000   \n",
       "2530                        78.500000                            4.500000   \n",
       "\n",
       "      ...  MagpieData range GSmagmom  MagpieData mean GSmagmom  \\\n",
       "0     ...                        0.0                       0.0   \n",
       "1     ...                        0.0                       0.0   \n",
       "2     ...                        0.0                       0.0   \n",
       "3     ...                        0.0                       0.0   \n",
       "4     ...                        0.0                       0.0   \n",
       "...   ...                        ...                       ...   \n",
       "2526  ...                        0.0                       0.0   \n",
       "2527  ...                        0.0                       0.0   \n",
       "2528  ...                        0.0                       0.0   \n",
       "2529  ...                        0.0                       0.0   \n",
       "2530  ...                        0.0                       0.0   \n",
       "\n",
       "      MagpieData avg_dev GSmagmom  MagpieData mode GSmagmom  \\\n",
       "0                             0.0                       0.0   \n",
       "1                             0.0                       0.0   \n",
       "2                             0.0                       0.0   \n",
       "3                             0.0                       0.0   \n",
       "4                             0.0                       0.0   \n",
       "...                           ...                       ...   \n",
       "2526                          0.0                       0.0   \n",
       "2527                          0.0                       0.0   \n",
       "2528                          0.0                       0.0   \n",
       "2529                          0.0                       0.0   \n",
       "2530                          0.0                       0.0   \n",
       "\n",
       "      MagpieData minimum SpaceGroupNumber  \\\n",
       "0                                    64.0   \n",
       "1                                     2.0   \n",
       "2                                     2.0   \n",
       "3                                    64.0   \n",
       "4                                     2.0   \n",
       "...                                   ...   \n",
       "2526                                  2.0   \n",
       "2527                                 64.0   \n",
       "2528                                  2.0   \n",
       "2529                                 64.0   \n",
       "2530                                  2.0   \n",
       "\n",
       "      MagpieData maximum SpaceGroupNumber  MagpieData range SpaceGroupNumber  \\\n",
       "0                                   229.0                              165.0   \n",
       "1                                    64.0                               62.0   \n",
       "2                                    64.0                               62.0   \n",
       "3                                   166.0                              102.0   \n",
       "4                                    64.0                               62.0   \n",
       "...                                   ...                                ...   \n",
       "2526                                 64.0                               62.0   \n",
       "2527                                229.0                              165.0   \n",
       "2528                                 64.0                               62.0   \n",
       "2529                                166.0                              102.0   \n",
       "2530                                 64.0                               62.0   \n",
       "\n",
       "      MagpieData mean SpaceGroupNumber  MagpieData avg_dev SpaceGroupNumber  \\\n",
       "0                            148.33333                            56.222220   \n",
       "1                             33.00000                            31.000000   \n",
       "2                             33.00000                            31.000000   \n",
       "3                            115.00000                            51.000000   \n",
       "4                             33.00000                            31.000000   \n",
       "...                                ...                                  ...   \n",
       "2526                          33.00000                            31.000000   \n",
       "2527                         119.00000                            73.333336   \n",
       "2528                          33.00000                            31.000000   \n",
       "2529                         115.00000                            51.000000   \n",
       "2530                          33.00000                            31.000000   \n",
       "\n",
       "      MagpieData mode SpaceGroupNumber  \n",
       "0                                 64.0  \n",
       "1                                  2.0  \n",
       "2                                  2.0  \n",
       "3                                 64.0  \n",
       "4                                  2.0  \n",
       "...                                ...  \n",
       "2526                               2.0  \n",
       "2527                              64.0  \n",
       "2528                               2.0  \n",
       "2529                              64.0  \n",
       "2530                               2.0  \n",
       "\n",
       "[2531 rows x 131 columns]"
      ]
     },
     "execution_count": 2,
     "metadata": {},
     "output_type": "execute_result"
    }
   ],
   "source": [
    "descriptors = pd.read_csv('./descriptors.csv', delimiter = ';')\n",
    "descriptors = descriptors.drop(descriptors.columns[0],axis=1)\n",
    "descriptors "
   ]
  },
  {
   "cell_type": "code",
   "execution_count": 3,
   "id": "8e3941e5",
   "metadata": {
    "scrolled": true
   },
   "outputs": [
    {
     "data": {
      "text/plain": [
       "0       0.088699\n",
       "1       1.447379\n",
       "2       1.496388\n",
       "3       0.544622\n",
       "4       1.440079\n",
       "          ...   \n",
       "2526    1.653516\n",
       "2527    0.000000\n",
       "2528    1.232222\n",
       "2529    0.302066\n",
       "2530    1.231642\n",
       "Name: band_gap_vals, Length: 2531, dtype: float64"
      ]
     },
     "execution_count": 3,
     "metadata": {},
     "output_type": "execute_result"
    }
   ],
   "source": [
    "dataset = pd.read_csv('dataset.csv')\n",
    "band_gaps = dataset[\"band_gap_vals\"]\n",
    "band_gaps"
   ]
  },
  {
   "cell_type": "markdown",
   "id": "563d6096",
   "metadata": {},
   "source": [
    "### Build the models"
   ]
  },
  {
   "cell_type": "code",
   "execution_count": 4,
   "id": "2d69991a",
   "metadata": {},
   "outputs": [],
   "source": [
    "# set the X and y training data\n",
    "\n",
    "X = descriptors\n",
    "y = band_gaps"
   ]
  },
  {
   "cell_type": "code",
   "execution_count": 5,
   "id": "2d5d5f2d",
   "metadata": {},
   "outputs": [],
   "source": [
    "# Generate train and test split\n",
    "X_train, X_test, y_train, y_test = train_test_split(X, y, test_size=0.2, random_state=32)\n",
    "\n",
    "# Scaling the features \n",
    "scale = StandardScaler()\n",
    "X_train_sd = scale.fit_transform(X_train)\n",
    "X_test_sd = scale.transform(X_test)"
   ]
  },
  {
   "cell_type": "code",
   "execution_count": 6,
   "id": "238f9eff",
   "metadata": {},
   "outputs": [
    {
     "data": {
      "text/html": [
       "<style>#sk-container-id-1 {color: black;background-color: white;}#sk-container-id-1 pre{padding: 0;}#sk-container-id-1 div.sk-toggleable {background-color: white;}#sk-container-id-1 label.sk-toggleable__label {cursor: pointer;display: block;width: 100%;margin-bottom: 0;padding: 0.3em;box-sizing: border-box;text-align: center;}#sk-container-id-1 label.sk-toggleable__label-arrow:before {content: \"▸\";float: left;margin-right: 0.25em;color: #696969;}#sk-container-id-1 label.sk-toggleable__label-arrow:hover:before {color: black;}#sk-container-id-1 div.sk-estimator:hover label.sk-toggleable__label-arrow:before {color: black;}#sk-container-id-1 div.sk-toggleable__content {max-height: 0;max-width: 0;overflow: hidden;text-align: left;background-color: #f0f8ff;}#sk-container-id-1 div.sk-toggleable__content pre {margin: 0.2em;color: black;border-radius: 0.25em;background-color: #f0f8ff;}#sk-container-id-1 input.sk-toggleable__control:checked~div.sk-toggleable__content {max-height: 200px;max-width: 100%;overflow: auto;}#sk-container-id-1 input.sk-toggleable__control:checked~label.sk-toggleable__label-arrow:before {content: \"▾\";}#sk-container-id-1 div.sk-estimator input.sk-toggleable__control:checked~label.sk-toggleable__label {background-color: #d4ebff;}#sk-container-id-1 div.sk-label input.sk-toggleable__control:checked~label.sk-toggleable__label {background-color: #d4ebff;}#sk-container-id-1 input.sk-hidden--visually {border: 0;clip: rect(1px 1px 1px 1px);clip: rect(1px, 1px, 1px, 1px);height: 1px;margin: -1px;overflow: hidden;padding: 0;position: absolute;width: 1px;}#sk-container-id-1 div.sk-estimator {font-family: monospace;background-color: #f0f8ff;border: 1px dotted black;border-radius: 0.25em;box-sizing: border-box;margin-bottom: 0.5em;}#sk-container-id-1 div.sk-estimator:hover {background-color: #d4ebff;}#sk-container-id-1 div.sk-parallel-item::after {content: \"\";width: 100%;border-bottom: 1px solid gray;flex-grow: 1;}#sk-container-id-1 div.sk-label:hover label.sk-toggleable__label {background-color: #d4ebff;}#sk-container-id-1 div.sk-serial::before {content: \"\";position: absolute;border-left: 1px solid gray;box-sizing: border-box;top: 0;bottom: 0;left: 50%;z-index: 0;}#sk-container-id-1 div.sk-serial {display: flex;flex-direction: column;align-items: center;background-color: white;padding-right: 0.2em;padding-left: 0.2em;position: relative;}#sk-container-id-1 div.sk-item {position: relative;z-index: 1;}#sk-container-id-1 div.sk-parallel {display: flex;align-items: stretch;justify-content: center;background-color: white;position: relative;}#sk-container-id-1 div.sk-item::before, #sk-container-id-1 div.sk-parallel-item::before {content: \"\";position: absolute;border-left: 1px solid gray;box-sizing: border-box;top: 0;bottom: 0;left: 50%;z-index: -1;}#sk-container-id-1 div.sk-parallel-item {display: flex;flex-direction: column;z-index: 1;position: relative;background-color: white;}#sk-container-id-1 div.sk-parallel-item:first-child::after {align-self: flex-end;width: 50%;}#sk-container-id-1 div.sk-parallel-item:last-child::after {align-self: flex-start;width: 50%;}#sk-container-id-1 div.sk-parallel-item:only-child::after {width: 0;}#sk-container-id-1 div.sk-dashed-wrapped {border: 1px dashed gray;margin: 0 0.4em 0.5em 0.4em;box-sizing: border-box;padding-bottom: 0.4em;background-color: white;}#sk-container-id-1 div.sk-label label {font-family: monospace;font-weight: bold;display: inline-block;line-height: 1.2em;}#sk-container-id-1 div.sk-label-container {text-align: center;}#sk-container-id-1 div.sk-container {/* jupyter's `normalize.less` sets `[hidden] { display: none; }` but bootstrap.min.css set `[hidden] { display: none !important; }` so we also need the `!important` here to be able to override the default hidden behavior on the sphinx rendered scikit-learn.org. See: https://github.com/scikit-learn/scikit-learn/issues/21755 */display: inline-block !important;position: relative;}#sk-container-id-1 div.sk-text-repr-fallback {display: none;}</style><div id=\"sk-container-id-1\" class=\"sk-top-container\"><div class=\"sk-text-repr-fallback\"><pre>SVR(epsilon=0.2)</pre><b>In a Jupyter environment, please rerun this cell to show the HTML representation or trust the notebook. <br />On GitHub, the HTML representation is unable to render, please try loading this page with nbviewer.org.</b></div><div class=\"sk-container\" hidden><div class=\"sk-item\"><div class=\"sk-estimator sk-toggleable\"><input class=\"sk-toggleable__control sk-hidden--visually\" id=\"sk-estimator-id-1\" type=\"checkbox\" checked><label for=\"sk-estimator-id-1\" class=\"sk-toggleable__label sk-toggleable__label-arrow\">SVR</label><div class=\"sk-toggleable__content\"><pre>SVR(epsilon=0.2)</pre></div></div></div></div></div>"
      ],
      "text/plain": [
       "SVR(epsilon=0.2)"
      ]
     },
     "execution_count": 6,
     "metadata": {},
     "output_type": "execute_result"
    }
   ],
   "source": [
    "# define and train on the model\n",
    "model = SVR(C=1.0, epsilon=0.2)\n",
    "model.fit(X_train, y_train)"
   ]
  },
  {
   "cell_type": "markdown",
   "id": "35170ff5",
   "metadata": {},
   "source": [
    "### Best Hyperparameters Tuning using GridSearch"
   ]
  },
  {
   "cell_type": "code",
   "execution_count": 7,
   "id": "f35bb5f5",
   "metadata": {},
   "outputs": [
    {
     "name": "stdout",
     "output_type": "stream",
     "text": [
      "Best parameters:  {'C': 10, 'epsilon': 0.02}\n",
      "Best score:  0.7536292292245517\n"
     ]
    }
   ],
   "source": [
    "clf_svr = SVR()\n",
    "svr_hyperparams = {'C': [0.1, 1, 10], 'epsilon': [0.02, 0.2, 2]}\n",
    "grid_search = GridSearchCV(model, svr_hyperparams, cv=5, return_train_score=True)\n",
    "grid_search.fit(X_train, y_train)\n",
    "\n",
    "print(\"Best parameters: \", grid_search.best_params_)\n",
    "print(\"Best score: \", grid_search.best_score_)"
   ]
  },
  {
   "cell_type": "markdown",
   "id": "4448812c",
   "metadata": {},
   "source": [
    "### Results"
   ]
  },
  {
   "cell_type": "code",
   "execution_count": 8,
   "id": "20dba4c7",
   "metadata": {},
   "outputs": [
    {
     "data": {
      "text/html": [
       "<style>#sk-container-id-2 {color: black;background-color: white;}#sk-container-id-2 pre{padding: 0;}#sk-container-id-2 div.sk-toggleable {background-color: white;}#sk-container-id-2 label.sk-toggleable__label {cursor: pointer;display: block;width: 100%;margin-bottom: 0;padding: 0.3em;box-sizing: border-box;text-align: center;}#sk-container-id-2 label.sk-toggleable__label-arrow:before {content: \"▸\";float: left;margin-right: 0.25em;color: #696969;}#sk-container-id-2 label.sk-toggleable__label-arrow:hover:before {color: black;}#sk-container-id-2 div.sk-estimator:hover label.sk-toggleable__label-arrow:before {color: black;}#sk-container-id-2 div.sk-toggleable__content {max-height: 0;max-width: 0;overflow: hidden;text-align: left;background-color: #f0f8ff;}#sk-container-id-2 div.sk-toggleable__content pre {margin: 0.2em;color: black;border-radius: 0.25em;background-color: #f0f8ff;}#sk-container-id-2 input.sk-toggleable__control:checked~div.sk-toggleable__content {max-height: 200px;max-width: 100%;overflow: auto;}#sk-container-id-2 input.sk-toggleable__control:checked~label.sk-toggleable__label-arrow:before {content: \"▾\";}#sk-container-id-2 div.sk-estimator input.sk-toggleable__control:checked~label.sk-toggleable__label {background-color: #d4ebff;}#sk-container-id-2 div.sk-label input.sk-toggleable__control:checked~label.sk-toggleable__label {background-color: #d4ebff;}#sk-container-id-2 input.sk-hidden--visually {border: 0;clip: rect(1px 1px 1px 1px);clip: rect(1px, 1px, 1px, 1px);height: 1px;margin: -1px;overflow: hidden;padding: 0;position: absolute;width: 1px;}#sk-container-id-2 div.sk-estimator {font-family: monospace;background-color: #f0f8ff;border: 1px dotted black;border-radius: 0.25em;box-sizing: border-box;margin-bottom: 0.5em;}#sk-container-id-2 div.sk-estimator:hover {background-color: #d4ebff;}#sk-container-id-2 div.sk-parallel-item::after {content: \"\";width: 100%;border-bottom: 1px solid gray;flex-grow: 1;}#sk-container-id-2 div.sk-label:hover label.sk-toggleable__label {background-color: #d4ebff;}#sk-container-id-2 div.sk-serial::before {content: \"\";position: absolute;border-left: 1px solid gray;box-sizing: border-box;top: 0;bottom: 0;left: 50%;z-index: 0;}#sk-container-id-2 div.sk-serial {display: flex;flex-direction: column;align-items: center;background-color: white;padding-right: 0.2em;padding-left: 0.2em;position: relative;}#sk-container-id-2 div.sk-item {position: relative;z-index: 1;}#sk-container-id-2 div.sk-parallel {display: flex;align-items: stretch;justify-content: center;background-color: white;position: relative;}#sk-container-id-2 div.sk-item::before, #sk-container-id-2 div.sk-parallel-item::before {content: \"\";position: absolute;border-left: 1px solid gray;box-sizing: border-box;top: 0;bottom: 0;left: 50%;z-index: -1;}#sk-container-id-2 div.sk-parallel-item {display: flex;flex-direction: column;z-index: 1;position: relative;background-color: white;}#sk-container-id-2 div.sk-parallel-item:first-child::after {align-self: flex-end;width: 50%;}#sk-container-id-2 div.sk-parallel-item:last-child::after {align-self: flex-start;width: 50%;}#sk-container-id-2 div.sk-parallel-item:only-child::after {width: 0;}#sk-container-id-2 div.sk-dashed-wrapped {border: 1px dashed gray;margin: 0 0.4em 0.5em 0.4em;box-sizing: border-box;padding-bottom: 0.4em;background-color: white;}#sk-container-id-2 div.sk-label label {font-family: monospace;font-weight: bold;display: inline-block;line-height: 1.2em;}#sk-container-id-2 div.sk-label-container {text-align: center;}#sk-container-id-2 div.sk-container {/* jupyter's `normalize.less` sets `[hidden] { display: none; }` but bootstrap.min.css set `[hidden] { display: none !important; }` so we also need the `!important` here to be able to override the default hidden behavior on the sphinx rendered scikit-learn.org. See: https://github.com/scikit-learn/scikit-learn/issues/21755 */display: inline-block !important;position: relative;}#sk-container-id-2 div.sk-text-repr-fallback {display: none;}</style><div id=\"sk-container-id-2\" class=\"sk-top-container\"><div class=\"sk-text-repr-fallback\"><pre>SVR(C=10, epsilon=0.02)</pre><b>In a Jupyter environment, please rerun this cell to show the HTML representation or trust the notebook. <br />On GitHub, the HTML representation is unable to render, please try loading this page with nbviewer.org.</b></div><div class=\"sk-container\" hidden><div class=\"sk-item\"><div class=\"sk-estimator sk-toggleable\"><input class=\"sk-toggleable__control sk-hidden--visually\" id=\"sk-estimator-id-2\" type=\"checkbox\" checked><label for=\"sk-estimator-id-2\" class=\"sk-toggleable__label sk-toggleable__label-arrow\">SVR</label><div class=\"sk-toggleable__content\"><pre>SVR(C=10, epsilon=0.02)</pre></div></div></div></div></div>"
      ],
      "text/plain": [
       "SVR(C=10, epsilon=0.02)"
      ]
     },
     "execution_count": 8,
     "metadata": {},
     "output_type": "execute_result"
    }
   ],
   "source": [
    "model_bestpara = SVR(C=10, epsilon=0.02)\n",
    "model_bestpara.fit(X_train, y_train)"
   ]
  },
  {
   "cell_type": "code",
   "execution_count": 9,
   "id": "7d779b46",
   "metadata": {},
   "outputs": [
    {
     "data": {
      "text/plain": [
       "0.6994252444466882"
      ]
     },
     "execution_count": 9,
     "metadata": {},
     "output_type": "execute_result"
    }
   ],
   "source": [
    "model_bestpara.score(X_test, y_test) # get the coefficient of determination of the prediction."
   ]
  },
  {
   "cell_type": "code",
   "execution_count": 10,
   "id": "01cb5123",
   "metadata": {},
   "outputs": [],
   "source": [
    "train_preds = model_bestpara.predict(X_train)\n",
    "test_preds = model_bestpara.predict(X_test)"
   ]
  },
  {
   "cell_type": "code",
   "execution_count": 11,
   "id": "81b5f76f",
   "metadata": {},
   "outputs": [
    {
     "name": "stdout",
     "output_type": "stream",
     "text": [
      "0.20493282961974196\n",
      "0.14095153116533277\n",
      "0.3754351224450541\n"
     ]
    }
   ],
   "source": [
    "MAE = mean_absolute_error(test_preds,y_test)\n",
    "MSE = mean_squared_error(test_preds,y_test)\n",
    "RMSE = np.sqrt(MSE)\n",
    "print(MAE)\n",
    "print(MSE)\n",
    "print(RMSE)"
   ]
  },
  {
   "cell_type": "code",
   "execution_count": 12,
   "id": "f31901cb",
   "metadata": {},
   "outputs": [
    {
     "data": {
      "text/plain": [
       "<matplotlib.legend.Legend at 0x17aef4d68b0>"
      ]
     },
     "execution_count": 12,
     "metadata": {},
     "output_type": "execute_result"
    },
    {
     "data": {
      "image/png": "[encoded data removed]",
      "text/plain": [
       "<Figure size 1200x750 with 1 Axes>"
      ]
     },
     "metadata": {
      "needs_background": "light"
     },
     "output_type": "display_data"
    }
   ],
   "source": [
    "fig, ax = plt.subplots(figsize=[8, 5], dpi=150)\n",
    "acc = np.linspace(0, np.max(np.concatenate([y_train, train_preds, y_test, test_preds])), 1000)\n",
    "ax.scatter(y_train, train_preds, color='steelblue', edgecolor='k', alpha=0.5, label='Train Predictions')\n",
    "ax.scatter(y_test, test_preds, color='orange', edgecolor='k', alpha=0.75, label='Test Prediction')\n",
    "ax.plot(acc, acc, label='Accuracy', color='black')\n",
    "ax.set_xlabel('Simulated Band Gap (eV)')\n",
    "ax.set_ylabel('Predicted Band Gap (eV)')\n",
    "plt.legend()"
   ]
  },
  {
   "cell_type": "markdown",
   "id": "6dae9e18",
   "metadata": {},
   "source": [
    "### Cross-validation"
   ]
  },
  {
   "cell_type": "code",
   "execution_count": 13,
   "id": "45bd3d7b",
   "metadata": {},
   "outputs": [
    {
     "name": "stdout",
     "output_type": "stream",
     "text": [
      "0.73 accuracy with a standard deviation of 0.03\n"
     ]
    }
   ],
   "source": [
    "scores = cross_val_score(model_bestpara, X, y, cv=5)\n",
    "print(\"%0.2f accuracy with a standard deviation of %0.2f\" % (scores.mean(), scores.std()))"
   ]
  },
  {
   "cell_type": "markdown",
   "id": "c645988b",
   "metadata": {},
   "source": [
    "## The top descriptors from lasso regression"
   ]
  },
  {
   "cell_type": "code",
   "execution_count": 9,
   "id": "9ca9c7af",
   "metadata": {},
   "outputs": [
    {
     "data": {
      "text/plain": [
       "array([[-0.50468789, -0.23460369, -0.2348501 , -1.39145975, -0.33039029],\n",
       "       [-0.11642448, -0.43090245, -0.2348501 ,  0.22200246, -0.33039029],\n",
       "       [-0.11642448, -0.43090245, -0.2348501 ,  0.22200246, -0.33039029],\n",
       "       ...,\n",
       "       [-0.11642448, -0.43090245, -0.2348501 ,  0.22200246, -0.33039029],\n",
       "       [-0.11642448, -0.45271343, -0.2348501 ,  0.22200246, -0.33039029],\n",
       "       [-0.11642448, -0.43090245, -0.2348501 ,  0.22200246, -0.33039029]])"
      ]
     },
     "execution_count": 9,
     "metadata": {},
     "output_type": "execute_result"
    }
   ],
   "source": [
    "X_top = descriptors[['MagpieData mode Electronegativity','MagpieData range Electronegativity','MagpieData mean NfValence',\"MagpieData mode MendeleevNumber\",\"MagpieData range NsValence\"]] \n",
    "\n",
    "# Scaling the features \n",
    "scale = StandardScaler()\n",
    "X_top = scale.fit_transform(X_top)\n",
    "X_top"
   ]
  },
  {
   "cell_type": "code",
   "execution_count": 10,
   "id": "ea3bb74f",
   "metadata": {},
   "outputs": [
    {
     "name": "stdout",
     "output_type": "stream",
     "text": [
      "Best parameters:  {'C': 1, 'epsilon': 0.2}\n",
      "Best score:  0.2753108092141949\n"
     ]
    }
   ],
   "source": [
    "# Generate train and test split\n",
    "X1_train, X1_test, y1_train, y1_test = train_test_split(X_top, y, test_size=0.2, random_state=32)\n",
    "\n",
    "# GridSearcch \n",
    "clf_top = SVR()\n",
    "svr_hyperparams = {'C': [0.1, 1, 10], 'epsilon': [0.02, 0.2, 2]}\n",
    "grid_search = GridSearchCV(clf_top, svr_hyperparams, cv=5, return_train_score=True)\n",
    "grid_search.fit(X1_train, y1_train)\n",
    "\n",
    "print(\"Best parameters: \", grid_search.best_params_)\n",
    "print(\"Best score: \", grid_search.best_score_)"
   ]
  },
  {
   "cell_type": "markdown",
   "id": "7eac6817",
   "metadata": {},
   "source": [
    "## SVMs trained on PCA with scaled data"
   ]
  },
  {
   "cell_type": "code",
   "execution_count": 16,
   "id": "5350a7ff",
   "metadata": {},
   "outputs": [],
   "source": [
    "# load CSV file from unscaled PCA data\n",
    "X_PCA = pd.read_csv(\"PC2.csv\", header=None)"
   ]
  },
  {
   "cell_type": "code",
   "execution_count": 17,
   "id": "8060c761",
   "metadata": {},
   "outputs": [
    {
     "name": "stdout",
     "output_type": "stream",
     "text": [
      "Best parameters:  {'C': 10, 'epsilon': 0.02}\n",
      "Best score:  0.6707434451301588\n"
     ]
    }
   ],
   "source": [
    "# Generate train and test split\n",
    "X2_train, X2_test, y2_train, y2_test = train_test_split(X_PCA, y, test_size=0.2, random_state=32)\n",
    "\n",
    "# GridSearcch \n",
    "clf_PCA = SVR()\n",
    "svr_hyperparams = {'C': [0.1, 1, 10], 'epsilon': [0.02, 0.2, 2]}\n",
    "grid_search = GridSearchCV(clf_PCA, svr_hyperparams, cv=5, return_train_score=True)\n",
    "grid_search.fit(X2_train, y2_train)\n",
    "\n",
    "print(\"Best parameters: \", grid_search.best_params_)\n",
    "print(\"Best score: \", grid_search.best_score_)"
   ]
  },
  {
   "cell_type": "code",
   "execution_count": 18,
   "id": "f1849a51",
   "metadata": {},
   "outputs": [
    {
     "data": {
      "text/html": [
       "<style>#sk-container-id-3 {color: black;background-color: white;}#sk-container-id-3 pre{padding: 0;}#sk-container-id-3 div.sk-toggleable {background-color: white;}#sk-container-id-3 label.sk-toggleable__label {cursor: pointer;display: block;width: 100%;margin-bottom: 0;padding: 0.3em;box-sizing: border-box;text-align: center;}#sk-container-id-3 label.sk-toggleable__label-arrow:before {content: \"▸\";float: left;margin-right: 0.25em;color: #696969;}#sk-container-id-3 label.sk-toggleable__label-arrow:hover:before {color: black;}#sk-container-id-3 div.sk-estimator:hover label.sk-toggleable__label-arrow:before {color: black;}#sk-container-id-3 div.sk-toggleable__content {max-height: 0;max-width: 0;overflow: hidden;text-align: left;background-color: #f0f8ff;}#sk-container-id-3 div.sk-toggleable__content pre {margin: 0.2em;color: black;border-radius: 0.25em;background-color: #f0f8ff;}#sk-container-id-3 input.sk-toggleable__control:checked~div.sk-toggleable__content {max-height: 200px;max-width: 100%;overflow: auto;}#sk-container-id-3 input.sk-toggleable__control:checked~label.sk-toggleable__label-arrow:before {content: \"▾\";}#sk-container-id-3 div.sk-estimator input.sk-toggleable__control:checked~label.sk-toggleable__label {background-color: #d4ebff;}#sk-container-id-3 div.sk-label input.sk-toggleable__control:checked~label.sk-toggleable__label {background-color: #d4ebff;}#sk-container-id-3 input.sk-hidden--visually {border: 0;clip: rect(1px 1px 1px 1px);clip: rect(1px, 1px, 1px, 1px);height: 1px;margin: -1px;overflow: hidden;padding: 0;position: absolute;width: 1px;}#sk-container-id-3 div.sk-estimator {font-family: monospace;background-color: #f0f8ff;border: 1px dotted black;border-radius: 0.25em;box-sizing: border-box;margin-bottom: 0.5em;}#sk-container-id-3 div.sk-estimator:hover {background-color: #d4ebff;}#sk-container-id-3 div.sk-parallel-item::after {content: \"\";width: 100%;border-bottom: 1px solid gray;flex-grow: 1;}#sk-container-id-3 div.sk-label:hover label.sk-toggleable__label {background-color: #d4ebff;}#sk-container-id-3 div.sk-serial::before {content: \"\";position: absolute;border-left: 1px solid gray;box-sizing: border-box;top: 0;bottom: 0;left: 50%;z-index: 0;}#sk-container-id-3 div.sk-serial {display: flex;flex-direction: column;align-items: center;background-color: white;padding-right: 0.2em;padding-left: 0.2em;position: relative;}#sk-container-id-3 div.sk-item {position: relative;z-index: 1;}#sk-container-id-3 div.sk-parallel {display: flex;align-items: stretch;justify-content: center;background-color: white;position: relative;}#sk-container-id-3 div.sk-item::before, #sk-container-id-3 div.sk-parallel-item::before {content: \"\";position: absolute;border-left: 1px solid gray;box-sizing: border-box;top: 0;bottom: 0;left: 50%;z-index: -1;}#sk-container-id-3 div.sk-parallel-item {display: flex;flex-direction: column;z-index: 1;position: relative;background-color: white;}#sk-container-id-3 div.sk-parallel-item:first-child::after {align-self: flex-end;width: 50%;}#sk-container-id-3 div.sk-parallel-item:last-child::after {align-self: flex-start;width: 50%;}#sk-container-id-3 div.sk-parallel-item:only-child::after {width: 0;}#sk-container-id-3 div.sk-dashed-wrapped {border: 1px dashed gray;margin: 0 0.4em 0.5em 0.4em;box-sizing: border-box;padding-bottom: 0.4em;background-color: white;}#sk-container-id-3 div.sk-label label {font-family: monospace;font-weight: bold;display: inline-block;line-height: 1.2em;}#sk-container-id-3 div.sk-label-container {text-align: center;}#sk-container-id-3 div.sk-container {/* jupyter's `normalize.less` sets `[hidden] { display: none; }` but bootstrap.min.css set `[hidden] { display: none !important; }` so we also need the `!important` here to be able to override the default hidden behavior on the sphinx rendered scikit-learn.org. See: https://github.com/scikit-learn/scikit-learn/issues/21755 */display: inline-block !important;position: relative;}#sk-container-id-3 div.sk-text-repr-fallback {display: none;}</style><div id=\"sk-container-id-3\" class=\"sk-top-container\"><div class=\"sk-text-repr-fallback\"><pre>SVR(C=10, epsilon=0.02)</pre><b>In a Jupyter environment, please rerun this cell to show the HTML representation or trust the notebook. <br />On GitHub, the HTML representation is unable to render, please try loading this page with nbviewer.org.</b></div><div class=\"sk-container\" hidden><div class=\"sk-item\"><div class=\"sk-estimator sk-toggleable\"><input class=\"sk-toggleable__control sk-hidden--visually\" id=\"sk-estimator-id-3\" type=\"checkbox\" checked><label for=\"sk-estimator-id-3\" class=\"sk-toggleable__label sk-toggleable__label-arrow\">SVR</label><div class=\"sk-toggleable__content\"><pre>SVR(C=10, epsilon=0.02)</pre></div></div></div></div></div>"
      ],
      "text/plain": [
       "SVR(C=10, epsilon=0.02)"
      ]
     },
     "execution_count": 18,
     "metadata": {},
     "output_type": "execute_result"
    }
   ],
   "source": [
    "# train SVM Regression model on the scaled data\n",
    "model_PCA = SVR(C=10, epsilon=0.02)\n",
    "model_PCA.fit(X2_train, y2_train)"
   ]
  },
  {
   "cell_type": "code",
   "execution_count": 19,
   "id": "2f8f3db0",
   "metadata": {},
   "outputs": [],
   "source": [
    "test_preds_PCA = model_PCA.predict(X2_test)"
   ]
  },
  {
   "cell_type": "code",
   "execution_count": 21,
   "id": "98c9f50a",
   "metadata": {},
   "outputs": [
    {
     "name": "stdout",
     "output_type": "stream",
     "text": [
      "0.2310880895329451\n",
      "0.64 accuracy with a standard deviation of 0.06\n"
     ]
    }
   ],
   "source": [
    "# Matrics to evaluate the model\n",
    "\n",
    "# MSE value\n",
    "MSE = mean_squared_error(test_preds_PCA,y2_test)\n",
    "print(MSE)\n",
    "\n",
    "# 5-fold cross-validation\n",
    "scores = cross_val_score(model_PCA, X_PCA, y, cv=5)\n",
    "print(\"%0.2f accuracy with a standard deviation of %0.2f\" % (scores.mean(), scores.std()))"
   ]
  },
  {
   "cell_type": "code",
   "execution_count": 22,
   "id": "f185823a",
   "metadata": {},
   "outputs": [
    {
     "data": {
      "text/plain": [
       "0.5072118376552236"
      ]
     },
     "execution_count": 22,
     "metadata": {},
     "output_type": "execute_result"
    }
   ],
   "source": [
    "model_PCA.score(X2_test, y2_test) # get the coefficient of determination of the prediction."
   ]
  },
  {
   "cell_type": "code",
   "execution_count": null,
   "id": "d7d1bbf7",
   "metadata": {},
   "outputs": [],
   "source": []
  }
 ],
 "metadata": {
  "kernelspec": {
   "display_name": "Python 3 (ipykernel)",
   "language": "python",
   "name": "python3"
  },
  "language_info": {
   "codemirror_mode": {
    "name": "ipython",
    "version": 3
   },
   "file_extension": ".py",
   "mimetype": "text/x-python",
   "name": "python",
   "nbconvert_exporter": "python",
   "pygments_lexer": "ipython3",
   "version": "3.9.12"
  }
 },
 "nbformat": 4,
 "nbformat_minor": 5
}
